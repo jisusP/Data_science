{
  "nbformat": 4,
  "nbformat_minor": 0,
  "metadata": {
    "colab": {
      "provenance": [],
      "authorship_tag": "ABX9TyOs1DkhQoqVApo3HXUZI10b",
      "include_colab_link": true
    },
    "kernelspec": {
      "name": "python3",
      "display_name": "Python 3"
    },
    "language_info": {
      "name": "python"
    }
  },
  "cells": [
    {
      "cell_type": "markdown",
      "metadata": {
        "id": "view-in-github",
        "colab_type": "text"
      },
      "source": [
        "<a href=\"https://colab.research.google.com/github/jisusP/Data_science/blob/main/Automatizacion_disoluciones.ipynb\" target=\"_parent\"><img src=\"https://colab.research.google.com/assets/colab-badge.svg\" alt=\"Open In Colab\"/></a>"
      ]
    },
    {
      "cell_type": "code",
      "execution_count": 10,
      "metadata": {
        "colab": {
          "base_uri": "https://localhost:8080/",
          "height": 593
        },
        "id": "yPbIMbKVIsaX",
        "outputId": "bc292ed4-4ba0-4507-9f0c-8476052ad450"
      },
      "outputs": [
        {
          "output_type": "stream",
          "name": "stderr",
          "text": [
            "<>:28: SyntaxWarning: 'float' object is not callable; perhaps you missed a comma?\n",
            "<>:28: SyntaxWarning: 'float' object is not callable; perhaps you missed a comma?\n"
          ]
        },
        {
          "name": "stdout",
          "output_type": "stream",
          "text": [
            "Ingrese la masa del soluto (g): 0\n",
            "Ingrese el peso molecular del soluto (g/mol): 0\n",
            "Ingrese el Volumen del solvente (mL): 0\n",
            "Ingrese la densidad del solvente (g/mL): 0\n",
            "Ingrese el peso molecular del solvente (g/mol): 0\n",
            "Ingrese la Masa del solvente (g): 0\n",
            "Ingrese la masa de la disolución (g): 0\n",
            "Ingrese la densidad de la disolución (g/mL): 0\n",
            "Ingrese el Volumen de la disolución (mL): 0\n",
            "Hay reacción Química en el ejercicio (n/y): y\n",
            "Cuál es la relación molar entre el reactivo principal y la sustancia a buscar.\n",
            "  De tal manera que, tenga parecido al siguiente ejemplo:\n",
            "  PH_3 + 2O2 -> H_3PO_4\n",
            "  Donde, la relación entre el PH_3 y el Oxígeno es 1:2 1:3\n",
            "Temperatura (°C): 1\n",
            "Volumen (mL): 1\n",
            "Presion (mmHg): 1\n"
          ]
        },
        {
          "output_type": "stream",
          "name": "stderr",
          "text": [
            "<ipython-input-10-e79f4ad8b002>:28: SyntaxWarning: 'float' object is not callable; perhaps you missed a comma?\n",
            "  n = ((p/760)*(v/1000))/(0.082)(t+273)\n"
          ]
        },
        {
          "output_type": "error",
          "ename": "TypeError",
          "evalue": "unsupported operand type(s) for -: 'int' and 'str'",
          "traceback": [
            "\u001b[0;31m---------------------------------------------------------------------------\u001b[0m",
            "\u001b[0;31mTypeError\u001b[0m                                 Traceback (most recent call last)",
            "\u001b[0;32m<ipython-input-10-e79f4ad8b002>\u001b[0m in \u001b[0;36m<cell line: 84>\u001b[0;34m()\u001b[0m\n\u001b[1;32m     82\u001b[0m \u001b[0;31m#... o si nos dan para hallar la masa del solvente\u001b[0m\u001b[0;34m\u001b[0m\u001b[0;34m\u001b[0m\u001b[0m\n\u001b[1;32m     83\u001b[0m \u001b[0mx_soluto\u001b[0m \u001b[0;34m=\u001b[0m \u001b[0mfraccion_molar\u001b[0m\u001b[0;34m(\u001b[0m\u001b[0mmol_pm_m\u001b[0m\u001b[0;34m(\u001b[0m\u001b[0mPM_soluto\u001b[0m\u001b[0;34m,\u001b[0m \u001b[0mm_soluto\u001b[0m\u001b[0;34m)\u001b[0m\u001b[0;34m,\u001b[0m \u001b[0mmol_pm_m\u001b[0m\u001b[0;34m(\u001b[0m\u001b[0mPM_solv\u001b[0m\u001b[0;34m,\u001b[0m \u001b[0mm_v_rho\u001b[0m\u001b[0;34m(\u001b[0m\u001b[0mv_solv\u001b[0m\u001b[0;34m,\u001b[0m \u001b[0mrho_solv\u001b[0m\u001b[0;34m)\u001b[0m\u001b[0;34m)\u001b[0m\u001b[0;34m)\u001b[0m \u001b[0;32mif\u001b[0m \u001b[0mv_solv\u001b[0m \u001b[0;34m!=\u001b[0m \u001b[0;36m0\u001b[0m \u001b[0;32mand\u001b[0m \u001b[0mrho_solv\u001b[0m\u001b[0;34m!=\u001b[0m\u001b[0;36m0\u001b[0m \u001b[0;32melse\u001b[0m \u001b[0;34m(\u001b[0m\u001b[0mfraccion_molar\u001b[0m\u001b[0;34m(\u001b[0m\u001b[0mmol_pm_m\u001b[0m\u001b[0;34m(\u001b[0m\u001b[0mPM_soluto\u001b[0m\u001b[0;34m,\u001b[0m \u001b[0mm_soluto\u001b[0m\u001b[0;34m)\u001b[0m\u001b[0;34m,\u001b[0m \u001b[0mmol_pm_m\u001b[0m\u001b[0;34m(\u001b[0m\u001b[0mPM_solv\u001b[0m\u001b[0;34m,\u001b[0m \u001b[0mm_solv\u001b[0m\u001b[0;34m)\u001b[0m\u001b[0;34m)\u001b[0m \u001b[0;32mif\u001b[0m \u001b[0mm_solv\u001b[0m\u001b[0;34m!=\u001b[0m\u001b[0;36m0\u001b[0m \u001b[0;32melse\u001b[0m \u001b[0;34m\"No hay datos suficientes\"\u001b[0m\u001b[0;34m)\u001b[0m\u001b[0;34m\u001b[0m\u001b[0;34m\u001b[0m\u001b[0m\n\u001b[0;32m---> 84\u001b[0;31m \u001b[0mx_solv\u001b[0m \u001b[0;34m=\u001b[0m \u001b[0;36m1\u001b[0m \u001b[0;34m-\u001b[0m \u001b[0mx_soluto\u001b[0m\u001b[0;34m\u001b[0m\u001b[0;34m\u001b[0m\u001b[0m\n\u001b[0m\u001b[1;32m     85\u001b[0m \u001b[0;34m\u001b[0m\u001b[0m\n\u001b[1;32m     86\u001b[0m \u001b[0;31m#%Masa-Masa, si nos dan volumen de solvente y densidad de solvente,\u001b[0m\u001b[0;34m\u001b[0m\u001b[0;34m\u001b[0m\u001b[0m\n",
            "\u001b[0;31mTypeError\u001b[0m: unsupported operand type(s) for -: 'int' and 'str'"
          ]
        }
      ],
      "source": [
        "#Automatizar procesos químicos generales en disoluciones\n",
        "\n",
        "valor = 0\n",
        "\n",
        "m_soluto = float(input(\"Ingrese la masa del soluto (g): \")) or valor\n",
        "PM_soluto = float(input(\"Ingrese el peso molecular del soluto (g/mol): \")) or valor\n",
        "\n",
        "v_solv = float(input(\"Ingrese el Volumen del solvente (mL): \")) or valor\n",
        "rho_solv = float(input(\"Ingrese la densidad del solvente (g/mL): \")) or valor\n",
        "PM_solv = float(input(\"Ingrese el peso molecular del solvente (g/mol): \")) or valor\n",
        "m_solv = float(input(\"Ingrese la Masa del solvente (g): \")) or valor\n",
        "\n",
        "m_dis = float(input(\"Ingrese la masa de la disolución (g): \")) or valor\n",
        "rho_dis = float(input(\"Ingrese la densidad de la disolución (g/mL): \")) or valor\n",
        "v_dis = float(input(\"Ingrese el Volumen de la disolución (mL): \")) or valor\n",
        "\n",
        "fisicoQuimica = input(\"Hay reacción Química en el ejercicio (n/y): \")\n",
        "if fisicoQuimica == \"y\":\n",
        "  coef = input(\"\"\"Cuál es la relación molar entre el reactivo principal y la sustancia a buscar.\n",
        "  De tal manera que, tenga parecido al siguiente ejemplo:\n",
        "  PH_3 + 2O2 -> H_3PO_4\n",
        "  Donde, la relación entre el PH_3 y el Oxígeno es 1:2 \"\"\")\n",
        "  T = input(\"Temperatura (°C): \")\n",
        "  V = input(\"Volumen (mL): \")\n",
        "  P = input(\"Presion (mmHg): \")\n",
        "\n",
        "def pvnrt(p, v, t):\n",
        "  n = ((p/760)*(v/1000))/(0.082)(t+273)\n",
        "  return n\n",
        "\n",
        "def conversion_mol(relacion):\n",
        "  a = [int(x) for x in relacion if x!=\":\"]\n",
        "  return a\n",
        "\n",
        "def molaridad(mol_soluto, v_dis):\n",
        "  M = mol_soluto/(v_dis/1000)\n",
        "  return M\n",
        "\n",
        "def molalidad(mol_soluto, m_solv):\n",
        "  molal = (mol_soluto)/(m_solv/1000)\n",
        "  return molal\n",
        "\n",
        "def fraccion_molar(mol_soluto, mol_solv):\n",
        "  x = mol_soluto/(mol_soluto + mol_solv)\n",
        "  return x\n",
        "\n",
        "def porcentaje_masa(m_soluto, m_solv):\n",
        "  mm = (m_soluto/(m_soluto + m_solv))*100\n",
        "  return mm\n",
        "\n",
        "def mol_pm_m(pm, m):\n",
        "  mol = m/pm\n",
        "  return mol\n",
        "\n",
        "def m_v_rho(v, rho):\n",
        "  m = v*rho\n",
        "  return m\n",
        "\n",
        "def v_m_rho(m, rho):\n",
        "  v = m/rho\n",
        "  return v\n",
        "\n",
        "def mol_molar_v(molar, v):\n",
        "  mol = molar*v\n",
        "  return mol\n",
        "\n",
        "\n",
        "##############################################\n",
        "\n",
        "if m_dis == 0:\n",
        "  m_dis = v_dis * rho_dis if v_dis and rho_dis else 0\n",
        "\n",
        "#Masa del solvente cuando nos dan datos de la disolución completa\n",
        "if m_solv == 0:\n",
        "  m_solv = m_dis - m_soluto if m_dis and m_soluto else 0\n",
        "\n",
        "#Molalidad en el caso que nos den un volumen de solvente y densidad de solvente,\n",
        "#... o si nos dan la masa de disolución para hallarlo por diferencia a la masa del solvente\n",
        "molales = molalidad(mol_pm_m(PM_soluto, m_soluto), m_v_rho(v_solv, rho_solv)) if v_solv != 0 and rho_solv!=0 else (molalidad(mol_pm_m(PM_soluto, m_soluto), m_solv) if m_solv!=0 else \"No hay datos suficientes\")\n",
        "\n",
        "#Fracción molar del soluto si nos dan un volumen de solvente y densidad de solvente,\n",
        "#... o si nos dan para hallar la masa del solvente\n",
        "x_soluto = fraccion_molar(mol_pm_m(PM_soluto, m_soluto), mol_pm_m(PM_solv, m_v_rho(v_solv, rho_solv))) if v_solv != 0 and rho_solv!=0 else (fraccion_molar(mol_pm_m(PM_soluto, m_soluto), mol_pm_m(PM_solv, m_solv)) if m_solv!=0 else \"No hay datos suficientes\")\n",
        "x_solv = 1 - x_soluto\n",
        "\n",
        "#%Masa-Masa, si nos dan volumen de solvente y densidad de solvente,\n",
        "#... o si nos dan la masa de cada uno\n",
        "masa_masa = porcentaje_masa(m_soluto, m_v_rho(v_solv, rho_solv)) if v_solv != 0 and rho_solv!=0 else porcentaje_masa(m_soluto, m_solv)\n",
        "\n",
        "#Molaridad, si nos dan volumen y densidad del solvente,\n",
        "#... o si\n",
        "molaridad = molaridad(mol_pm_m(PM_soluto, m_soluto), v_m_rho(m_dis, rho_dis)) if m_dis!=0 and rho_dis!=0 else \"No hay suficientes datos\"\n",
        "\n",
        "print(f\"\"\"\\nMolalidad: {molales} molal\n",
        "Fracción Molar del soluto: {x_soluto}\n",
        "Fracción Molar del solvente: {x_solv}\n",
        "%Masa = {masa_masa}%\n",
        "Molaridad = {molaridad} M\n",
        " \"\"\")\n",
        "\n",
        "###############################################\n"
      ]
    },
    {
      "cell_type": "code",
      "source": [
        "conversion_mol(\"1:2\")"
      ],
      "metadata": {
        "id": "FdmNS1NjWgmQ",
        "colab": {
          "base_uri": "https://localhost:8080/"
        },
        "outputId": "481567f4-29e8-427e-a44a-549f5a790778"
      },
      "execution_count": 11,
      "outputs": [
        {
          "output_type": "execute_result",
          "data": {
            "text/plain": [
              "['1', '2']"
            ]
          },
          "metadata": {},
          "execution_count": 11
        }
      ]
    }
  ]
}